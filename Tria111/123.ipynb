{
 "metadata": {
  "language_info": {
   "codemirror_mode": {
    "name": "ipython",
    "version": 3
   },
   "file_extension": ".py",
   "mimetype": "text/x-python",
   "name": "python",
   "nbconvert_exporter": "python",
   "pygments_lexer": "ipython3",
   "version": "3.8.9"
  },
  "orig_nbformat": 2,
  "kernelspec": {
   "name": "python389jvsc74a57bd0783a4c1d45641b25791233d6dfd3dcd84539355a8e9c916b07da1cfbe22ed9d4",
   "display_name": "Python 3.8.9 64-bit (windows store)"
  },
  "metadata": {
   "interpreter": {
    "hash": "783a4c1d45641b25791233d6dfd3dcd84539355a8e9c916b07da1cfbe22ed9d4"
   }
  }
 },
 "nbformat": 4,
 "nbformat_minor": 2,
 "cells": [
  {
   "cell_type": "code",
   "execution_count": 1,
   "metadata": {},
   "outputs": [],
   "source": [
    "import pandas as pd\n",
    "from io import BytesIO, StringIO\n"
   ]
  },
  {
   "cell_type": "code",
   "execution_count": 42,
   "metadata": {},
   "outputs": [
    {
     "output_type": "stream",
     "name": "stdout",
     "text": [
      "Length of csv: 3996\n"
     ]
    },
    {
     "output_type": "execute_result",
     "data": {
      "text/plain": [
       "                                                   0\n",
       "0  192.168.4.161 - - [22/Dec/2016:22:32:31 +0300]...\n",
       "1  192.168.4.163 - - [22/Dec/2016:22:32:31 +0300]...\n",
       "2  192.168.4.163 - - [22/Dec/2016:22:32:31 +0300]...\n",
       "3  192.168.4.163 - - [22/Dec/2016:22:32:32 +0300]...\n",
       "4  192.168.4.163 - - [22/Dec/2016:22:32:32 +0300]..."
      ],
      "text/html": "<div>\n<style scoped>\n    .dataframe tbody tr th:only-of-type {\n        vertical-align: middle;\n    }\n\n    .dataframe tbody tr th {\n        vertical-align: top;\n    }\n\n    .dataframe thead th {\n        text-align: right;\n    }\n</style>\n<table border=\"1\" class=\"dataframe\">\n  <thead>\n    <tr style=\"text-align: right;\">\n      <th></th>\n      <th>0</th>\n    </tr>\n  </thead>\n  <tbody>\n    <tr>\n      <th>0</th>\n      <td>192.168.4.161 - - [22/Dec/2016:22:32:31 +0300]...</td>\n    </tr>\n    <tr>\n      <th>1</th>\n      <td>192.168.4.163 - - [22/Dec/2016:22:32:31 +0300]...</td>\n    </tr>\n    <tr>\n      <th>2</th>\n      <td>192.168.4.163 - - [22/Dec/2016:22:32:31 +0300]...</td>\n    </tr>\n    <tr>\n      <th>3</th>\n      <td>192.168.4.163 - - [22/Dec/2016:22:32:32 +0300]...</td>\n    </tr>\n    <tr>\n      <th>4</th>\n      <td>192.168.4.163 - - [22/Dec/2016:22:32:32 +0300]...</td>\n    </tr>\n  </tbody>\n</table>\n</div>"
     },
     "metadata": {},
     "execution_count": 42
    }
   ],
   "source": [
    "df = pd.read_csv(r'w3af.txt', sep=\",\", header=None)\n",
    "print(\"Length of csv: \"+ str(len(df.index)))\n",
    "df.head()"
   ]
  },
  {
   "cell_type": "code",
   "execution_count": 14,
   "metadata": {},
   "outputs": [],
   "source": [
    "outputs = df.to_csv(index=False)"
   ]
  },
  {
   "cell_type": "code",
   "execution_count": 8,
   "metadata": {},
   "outputs": [],
   "source": [
    "outputs"
   ]
  },
  {
   "cell_type": "code",
   "execution_count": 12,
   "metadata": {},
   "outputs": [
    {
     "output_type": "stream",
     "name": "stdout",
     "text": [
      "<_io.StringIO object at 0x000001B7D61BEC10>\n"
     ]
    }
   ],
   "source": []
  },
  {
   "cell_type": "code",
   "execution_count": null,
   "metadata": {},
   "outputs": [],
   "source": []
  }
 ]
}